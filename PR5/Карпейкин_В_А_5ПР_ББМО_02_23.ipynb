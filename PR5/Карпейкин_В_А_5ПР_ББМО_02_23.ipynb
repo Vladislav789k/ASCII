{
  "nbformat": 4,
  "nbformat_minor": 0,
  "metadata": {
    "colab": {
      "provenance": []
    },
    "kernelspec": {
      "name": "python3",
      "display_name": "Python 3"
    },
    "language_info": {
      "name": "python"
    }
  },
  "cells": [
    {
      "cell_type": "markdown",
      "source": [
        "# **Практика 5: Атака с ограниченной памятью (`PGD` - `Projected Gradient Descent`)**\n",
        "\n",
        "По предмету: **Анализ защищенности систем искусственного интеллекта**\n",
        "\n",
        "Выполнил студент **2 курса** группы **ББМО-02-23**\n",
        "\n",
        "**Карпейкин Владислав Анатольевич**"
      ],
      "metadata": {
        "id": "8FQ_X-5OPAJY"
      }
    },
    {
      "cell_type": "markdown",
      "source": [
        "##**Цель задания:**\n",
        " Изучить одну из наиболее мощных атак на модели ИИ — атаку `Projected Gradient Descent` (`PGD`).\n",
        " Научиться использовать `PGD` для создания противоречивых примеров и оценить её влияние на обученные модели."
      ],
      "metadata": {
        "id": "dIBekTyAPH-W"
      }
    },
    {
      "cell_type": "markdown",
      "source": [
        "##**Задачи:**\n",
        "1. Загрузить ранее обученную модель на датасете `MNIST`.\n",
        "2. Изучить теоретические основы атаки `PGD`.\n",
        "3. Реализовать атаку `PGD` с помощью фреймворка `Foolbox`.\n",
        "4. Оценить точность модели на противоречивых примерах и сравнить с результатами на обычных данных."
      ],
      "metadata": {
        "id": "UpQdlvP6PSYZ"
      }
    },
    {
      "cell_type": "markdown",
      "source": [
        "##**Шаги выполнения:**"
      ],
      "metadata": {
        "id": "FALTU15EPa9e"
      }
    },
    {
      "cell_type": "markdown",
      "source": [
        "###**Шаг 1: Загрузка обученной модели и данных MNIST**"
      ],
      "metadata": {
        "id": "ysnAluXHPdFr"
      }
    },
    {
      "cell_type": "code",
      "execution_count": 1,
      "metadata": {
        "colab": {
          "base_uri": "https://localhost:8080/"
        },
        "id": "h1TUa-moOxwe",
        "outputId": "1db8b05e-9c70-4f40-c5c9-7367829f7e1f"
      },
      "outputs": [
        {
          "output_type": "stream",
          "name": "stdout",
          "text": [
            "Downloading data from https://storage.googleapis.com/tensorflow/tf-keras-datasets/mnist.npz\n",
            "\u001b[1m11490434/11490434\u001b[0m \u001b[32m━━━━━━━━━━━━━━━━━━━━\u001b[0m\u001b[37m\u001b[0m \u001b[1m0s\u001b[0m 0us/step\n"
          ]
        },
        {
          "output_type": "stream",
          "name": "stderr",
          "text": [
            "WARNING:absl:Compiled the loaded model, but the compiled metrics have yet to be built. `model.compile_metrics` will be empty until you train or evaluate the model.\n"
          ]
        },
        {
          "output_type": "stream",
          "name": "stdout",
          "text": [
            "\u001b[1m313/313\u001b[0m \u001b[32m━━━━━━━━━━━━━━━━━━━━\u001b[0m\u001b[37m\u001b[0m \u001b[1m1s\u001b[0m 1ms/step - accuracy: 0.9752 - loss: 0.0817\n",
            "Test accuracy on clean images: 0.9778000116348267\n"
          ]
        }
      ],
      "source": [
        "import tensorflow as tf\n",
        "from tensorflow.keras.datasets import mnist\n",
        "from tensorflow.keras.utils import to_categorical\n",
        "# Загрузка тестовых данных MNIST:\n",
        "(_, _), (test_images, test_labels) = mnist.load_data()\n",
        "# Нормализация данных\n",
        "test_images = test_images / 255.0\n",
        "# Преобразование меток в формат one-hot:\n",
        "test_labels = to_categorical(test_labels, num_classes=10)\n",
        "# Загрузка обученной модели:\n",
        "model = tf.keras.models.load_model('/content/mnist_model.h5')\n",
        "# Проверка точности модели на обычных данных:\n",
        "test_loss, test_acc = model.evaluate(test_images, test_labels)\n",
        "print(f'Test accuracy on clean images: {test_acc}')"
      ]
    },
    {
      "cell_type": "markdown",
      "source": [
        "### Шаг 2: Теория атаки `Projected Gradient Descent` (`PGD`):"
      ],
      "metadata": {
        "id": "CsseavQNPw6s"
      }
    },
    {
      "cell_type": "markdown",
      "source": [
        "Атака Projected Gradient Descent (`PGD`) — это расширение `FGSM` (`Fast Gradient Sign Method`), где атака выполняется итеративно. На каждой итерации добавляются небольшие изменения к входным данным в направлении увеличения ошибки модели.\n",
        "\n",
        "После каждой итерации результат \"проецируется\" на допустимое пространство для ограничивания размера изменений, что позволяет сохранять противоречивый пример в пределах определенной нормы (например, L∞)."
      ],
      "metadata": {
        "id": "hWKUCPXDP4kd"
      }
    },
    {
      "cell_type": "markdown",
      "source": [
        "### Шаг 3: Реализация атаки `PGD` с использованием `Foolbox`"
      ],
      "metadata": {
        "id": "6SpWqvXtQCZ_"
      }
    },
    {
      "cell_type": "markdown",
      "source": [
        "Установка `Foolbox`:"
      ],
      "metadata": {
        "id": "89EwI5-nQL6n"
      }
    },
    {
      "cell_type": "code",
      "source": [
        "!pip install foolbox"
      ],
      "metadata": {
        "colab": {
          "base_uri": "https://localhost:8080/"
        },
        "id": "q8xq4hfrQG3c",
        "outputId": "c424db07-0b40-4d84-a29b-15fed9bb56f2"
      },
      "execution_count": 2,
      "outputs": [
        {
          "output_type": "stream",
          "name": "stdout",
          "text": [
            "Collecting foolbox\n",
            "  Downloading foolbox-3.3.4-py3-none-any.whl.metadata (7.3 kB)\n",
            "Requirement already satisfied: numpy in /usr/local/lib/python3.10/dist-packages (from foolbox) (1.26.4)\n",
            "Requirement already satisfied: scipy in /usr/local/lib/python3.10/dist-packages (from foolbox) (1.13.1)\n",
            "Requirement already satisfied: setuptools in /usr/local/lib/python3.10/dist-packages (from foolbox) (75.1.0)\n",
            "Collecting eagerpy>=0.30.0 (from foolbox)\n",
            "  Downloading eagerpy-0.30.0-py3-none-any.whl.metadata (5.5 kB)\n",
            "Requirement already satisfied: GitPython>=3.0.7 in /usr/local/lib/python3.10/dist-packages (from foolbox) (3.1.43)\n",
            "Requirement already satisfied: typing-extensions>=3.7.4.1 in /usr/local/lib/python3.10/dist-packages (from foolbox) (4.12.2)\n",
            "Requirement already satisfied: requests>=2.24.0 in /usr/local/lib/python3.10/dist-packages (from foolbox) (2.32.3)\n",
            "Requirement already satisfied: gitdb<5,>=4.0.1 in /usr/local/lib/python3.10/dist-packages (from GitPython>=3.0.7->foolbox) (4.0.11)\n",
            "Requirement already satisfied: charset-normalizer<4,>=2 in /usr/local/lib/python3.10/dist-packages (from requests>=2.24.0->foolbox) (3.4.0)\n",
            "Requirement already satisfied: idna<4,>=2.5 in /usr/local/lib/python3.10/dist-packages (from requests>=2.24.0->foolbox) (3.10)\n",
            "Requirement already satisfied: urllib3<3,>=1.21.1 in /usr/local/lib/python3.10/dist-packages (from requests>=2.24.0->foolbox) (2.2.3)\n",
            "Requirement already satisfied: certifi>=2017.4.17 in /usr/local/lib/python3.10/dist-packages (from requests>=2.24.0->foolbox) (2024.8.30)\n",
            "Requirement already satisfied: smmap<6,>=3.0.1 in /usr/local/lib/python3.10/dist-packages (from gitdb<5,>=4.0.1->GitPython>=3.0.7->foolbox) (5.0.1)\n",
            "Downloading foolbox-3.3.4-py3-none-any.whl (1.7 MB)\n",
            "\u001b[2K   \u001b[90m━━━━━━━━━━━━━━━━━━━━━━━━━━━━━━━━━━━━━━━━\u001b[0m \u001b[32m1.7/1.7 MB\u001b[0m \u001b[31m28.9 MB/s\u001b[0m eta \u001b[36m0:00:00\u001b[0m\n",
            "\u001b[?25hDownloading eagerpy-0.30.0-py3-none-any.whl (31 kB)\n",
            "Installing collected packages: eagerpy, foolbox\n",
            "Successfully installed eagerpy-0.30.0 foolbox-3.3.4\n"
          ]
        }
      ]
    },
    {
      "cell_type": "markdown",
      "source": [
        "Реализация атаки `PGD`:"
      ],
      "metadata": {
        "id": "owafk4krQS3P"
      }
    },
    {
      "cell_type": "markdown",
      "source": [
        "Как пример атака происходит на первые 5 изображений:"
      ],
      "metadata": {
        "id": "qNF9ww1FSBCw"
      }
    },
    {
      "cell_type": "code",
      "source": [
        "import foolbox as fb\n",
        "import numpy as np\n",
        "import matplotlib.pyplot as plt\n",
        "import tensorflow as tf\n",
        "\n",
        "# Инициализация Foolbox модели\n",
        "fmodel = fb.TensorFlowModel(model, bounds=(0, 1))\n",
        "\n",
        "# Создание атаки PGD\n",
        "attack = fb.attacks.LinfPGD()\n",
        "\n",
        "# Количество изображений для атаки\n",
        "num_images = 5\n",
        "\n",
        "# Создание подграфиков для отображения результатов\n",
        "plt.figure(figsize=(15, 7))\n",
        "\n",
        "for i in range(num_images):\n",
        "    # Выбор изображения для атаки\n",
        "    image = tf.convert_to_tensor(test_images[i], dtype=tf.float32)[None, ...]\n",
        "    label = np.argmax(test_labels[i])\n",
        "    label = tf.convert_to_tensor(label, dtype=tf.int64)\n",
        "\n",
        "    # Выполнение атаки\n",
        "    adversarial_image, _, success = attack(fmodel, image, label[None], epsilons=0.1)\n",
        "\n",
        "    # Отображение оригинального и противоречивого изображений\n",
        "    plt.subplot(2, num_images, i + 1)\n",
        "    plt.title(f\"Оригинальное изображение {i+1}\")\n",
        "    plt.imshow(image[0].numpy(), cmap=\"gray\")\n",
        "    plt.axis('off')\n",
        "\n",
        "    plt.subplot(2, num_images, num_images + i + 1)\n",
        "    plt.title(f\"Противоречивое изображение {i+1}\")\n",
        "    plt.imshow(adversarial_image[0].numpy(), cmap=\"gray\")\n",
        "    plt.axis('off')\n",
        "\n",
        "plt.tight_layout()\n",
        "plt.show()"
      ],
      "metadata": {
        "colab": {
          "base_uri": "https://localhost:8080/",
          "height": 744
        },
        "id": "GheO3-jlQeL_",
        "outputId": "fa4af451-2a23-4cfe-aa0c-0e70e15dbc35"
      },
      "execution_count": 3,
      "outputs": [
        {
          "output_type": "stream",
          "name": "stderr",
          "text": [
            "WARNING:tensorflow:From /usr/local/lib/python3.10/dist-packages/foolbox/models/tensorflow.py:13: is_gpu_available (from tensorflow.python.framework.test_util) is deprecated and will be removed in a future version.\n",
            "Instructions for updating:\n",
            "Use `tf.config.list_physical_devices('GPU')` instead.\n"
          ]
        },
        {
          "output_type": "display_data",
          "data": {
            "text/plain": [
              "<Figure size 1500x700 with 10 Axes>"
            ],
            "image/png": "[encoded data removed]"
          },
          "metadata": {}
        }
      ]
    },
    {
      "cell_type": "markdown",
      "source": [
        "### Шаг 4: Оценка модели на противоречивых примерах"
      ],
      "metadata": {
        "id": "mQEHX-rlSEo6"
      }
    },
    {
      "cell_type": "markdown",
      "source": [
        " Теперь мы проверим, как сильно атака `PGD` влияет на точность модели. Мы создадим набор противоречивых примеров и оценим производительность модели на этих данных. В качестве данных возьмем первые 1000 изображений для экономии времени обработки"
      ],
      "metadata": {
        "id": "l9Z4_-FOSJ6l"
      }
    },
    {
      "cell_type": "code",
      "source": [
        "max_images = 1000\n",
        "num_images_to_process = min(len(test_images), max_images)\n",
        "adversarial_images = []\n",
        "\n",
        "for i in range(num_images_to_process):\n",
        "    image = tf.convert_to_tensor(test_images[i], dtype=tf.float32)[None, ...]\n",
        "    label = np.argmax(test_labels[i])\n",
        "    label = tf.convert_to_tensor(label, dtype=tf.int64)\n",
        "    advs, _, success = attack(fmodel, image, label[None], epsilons=0.1)\n",
        "    adversarial_images.append(advs)\n",
        "\n",
        "adversarial_images = tf.concat(adversarial_images, axis=0)\n",
        "\n",
        "adversarial_loss, adversarial_acc = model.evaluate(adversarial_images, test_labels[:num_images_to_process])\n",
        "print(f'Accuracy on adversarial examples (PGD): {adversarial_acc}')"
      ],
      "metadata": {
        "colab": {
          "base_uri": "https://localhost:8080/"
        },
        "id": "my77bhNkSMGJ",
        "outputId": "33a7ce02-a823-461f-b86c-1ea375c52e2c"
      },
      "execution_count": 4,
      "outputs": [
        {
          "output_type": "stream",
          "name": "stdout",
          "text": [
            "\u001b[1m32/32\u001b[0m \u001b[32m━━━━━━━━━━━━━━━━━━━━\u001b[0m\u001b[37m\u001b[0m \u001b[1m0s\u001b[0m 1ms/step - accuracy: 0.0341 - loss: 8.6234 \n",
            "Accuracy on adversarial examples (PGD): 0.035999998450279236\n"
          ]
        }
      ]
    },
    {
      "cell_type": "markdown",
      "source": [
        "### Шаг 5: Сравнение результатов"
      ],
      "metadata": {
        "id": "7Yw9PXDTX8Qg"
      }
    },
    {
      "cell_type": "markdown",
      "source": [
        "Модель сильно уязвима к атакам типа `PGD`(`Projected Gradient Descent`). Изначальная точность была равна ~97%, однако после реализации атаки наблюдается резкое снижение точности до 3%, что свидетельствует о том, что модель не устойчива к небольшим, но целенаправленным изменениям входных данных, которые с легкостью приводят к ошибкам в ней"
      ],
      "metadata": {
        "id": "MDv-WVuPYCoS"
      }
    }
  ]
}