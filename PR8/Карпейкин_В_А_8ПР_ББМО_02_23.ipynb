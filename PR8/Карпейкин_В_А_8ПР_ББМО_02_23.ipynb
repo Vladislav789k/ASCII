{
  "nbformat": 4,
  "nbformat_minor": 0,
  "metadata": {
    "colab": {
      "provenance": []
    },
    "kernelspec": {
      "name": "python3",
      "display_name": "Python 3"
    },
    "language_info": {
      "name": "python"
    }
  },
  "cells": [
    {
      "cell_type": "markdown",
      "source": [
        "# **Практика 8: Методы защиты от атак на модели ИИ**\n",
        "\n",
        "По предмету: **Анализ защищенности систем искусственного интеллекта**\n",
        "\n",
        "Выполнил студент **2 курса** группы **ББМО-02-23**\n",
        "\n",
        "**Карпейкин Владислав Анатольевич**"
      ],
      "metadata": {
        "id": "wP-tdJRLbX0Z"
      }
    },
    {
      "cell_type": "markdown",
      "source": [
        "##**Цель задания:**\n",
        "Изучить методы защиты моделей ИИ от различных атак, включая методы защиты на уровне данных, моделирования и обучения. Реализовать эти методы и проверить их эффективность против атак, изученных ранее."
      ],
      "metadata": {
        "id": "cvr08Pknbcxk"
      }
    },
    {
      "cell_type": "markdown",
      "source": [
        "##**Задачи:**\n",
        "1. Изучить и реализовать защиту модели с помощью тренировок на противоречивых примерах (`Adversarial Training`).\n",
        "2. Реализовать метод защиты на основе градиентной маскировки.\n",
        "3. Использовать регуляризацию и нормализацию для повышения устойчивости модели.\n",
        "4. Проверить эффективность методов защиты против атак `FGSM`, `PGD` и `GAN-based` атак.\n",
        "5. Оценить улучшение точности защищенной модели на противоречивых примерах."
      ],
      "metadata": {
        "id": "s8gjbxs6cYA6"
      }
    },
    {
      "cell_type": "markdown",
      "source": [
        "##**Шаги выполнения:**"
      ],
      "metadata": {
        "id": "ZpoLPvFaI__-"
      }
    },
    {
      "cell_type": "markdown",
      "source": [
        "###**Шаг 1: Защита с помощью `Adversarial Training`**"
      ],
      "metadata": {
        "id": "ovXGdZAdJAcQ"
      }
    },
    {
      "cell_type": "markdown",
      "source": [
        " `Adversarial Training` — это метод защиты, который заключается в том, чтобы обучать модель на противоречивых примерах. Этот метод помогает модели научиться быть более устойчивой к атакам, так как она сталкивается с противоречивыми примерами на этапе обучения"
      ],
      "metadata": {
        "id": "wFAx6ROJtGB0"
      }
    },
    {
      "cell_type": "code",
      "execution_count": 1,
      "metadata": {
        "id": "y0XgmcmIbPtP",
        "colab": {
          "base_uri": "https://localhost:8080/"
        },
        "outputId": "8dee8e63-b68b-4060-8f96-90da2f11ac8b"
      },
      "outputs": [
        {
          "output_type": "stream",
          "name": "stdout",
          "text": [
            "Downloading data from https://storage.googleapis.com/tensorflow/tf-keras-datasets/mnist.npz\n",
            "\u001b[1m11490434/11490434\u001b[0m \u001b[32m━━━━━━━━━━━━━━━━━━━━\u001b[0m\u001b[37m\u001b[0m \u001b[1m0s\u001b[0m 0us/step\n"
          ]
        },
        {
          "output_type": "stream",
          "name": "stderr",
          "text": [
            "/usr/local/lib/python3.10/dist-packages/keras/src/layers/reshaping/flatten.py:37: UserWarning: Do not pass an `input_shape`/`input_dim` argument to a layer. When using Sequential models, prefer using an `Input(shape)` object as the first layer in the model instead.\n",
            "  super().__init__(**kwargs)\n",
            "WARNING:tensorflow:5 out of the last 5 calls to <function TensorFlowTrainer.make_train_function.<locals>.one_step_on_iterator at 0x7a8760902f80> triggered tf.function retracing. Tracing is expensive and the excessive number of tracings could be due to (1) creating @tf.function repeatedly in a loop, (2) passing tensors with different shapes, (3) passing Python objects instead of tensors. For (1), please define your @tf.function outside of the loop. For (2), @tf.function has reduce_retracing=True option that can avoid unnecessary retracing. For (3), please refer to https://www.tensorflow.org/guide/function#controlling_retracing and https://www.tensorflow.org/api_docs/python/tf/function for  more details.\n",
            "WARNING:tensorflow:6 out of the last 6 calls to <function TensorFlowTrainer.make_train_function.<locals>.one_step_on_iterator at 0x7a8760902f80> triggered tf.function retracing. Tracing is expensive and the excessive number of tracings could be due to (1) creating @tf.function repeatedly in a loop, (2) passing tensors with different shapes, (3) passing Python objects instead of tensors. For (1), please define your @tf.function outside of the loop. For (2), @tf.function has reduce_retracing=True option that can avoid unnecessary retracing. For (3), please refer to https://www.tensorflow.org/guide/function#controlling_retracing and https://www.tensorflow.org/api_docs/python/tf/function for  more details.\n",
            "WARNING:absl:You are saving your model as an HDF5 file via `model.save()` or `keras.saving.save_model(model)`. This file format is considered legacy. We recommend using instead the native Keras format, e.g. `model.save('my_model.keras')` or `keras.saving.save_model(model, 'my_model.keras')`. \n"
          ]
        }
      ],
      "source": [
        "import tensorflow as tf\n",
        "import numpy as np\n",
        "from tensorflow.keras.datasets import mnist\n",
        "\n",
        "# Загрузка данных MNIST:\n",
        "(train_images, train_labels), (test_images, test_labels) = mnist.load_data()\n",
        "\n",
        "# Нормализация данных:\n",
        "train_images = train_images / 255.0\n",
        "test_images = test_images / 255.0\n",
        "\n",
        "# Преобразование меток в one-hot encoding:\n",
        "train_labels = tf.keras.utils.to_categorical(train_labels, 10)\n",
        "test_labels = tf.keras.utils.to_categorical(test_labels, 10)\n",
        "\n",
        "# Уменьшаем количество обучающих изображений до 1000:\n",
        "train_images = train_images[:1000]\n",
        "train_labels = train_labels[:1000]\n",
        "\n",
        "# Функция FGSM атаки:\n",
        "def fgsm_attack(image, epsilon, gradient):\n",
        "    perturbation = epsilon * np.sign(gradient)\n",
        "    adversarial_image = image + perturbation\n",
        "    adversarial_image = np.clip(adversarial_image, 0, 1)\n",
        "    return adversarial_image\n",
        "\n",
        "# Функция для генерации противоречивых примеров:\n",
        "def generate_adversarial_examples(model, images, labels, epsilon):\n",
        "    adversarial_images = []\n",
        "    for i in range(len(images)):\n",
        "        image = tf.convert_to_tensor(images[i].reshape((1, 28, 28, 1)), dtype=tf.float32)\n",
        "        label = tf.convert_to_tensor(labels[i].reshape((1, 10)), dtype=tf.float32)\n",
        "\n",
        "        with tf.GradientTape() as tape:\n",
        "            tape.watch(image)\n",
        "            prediction = model(image)\n",
        "            loss = tf.keras.losses.categorical_crossentropy(label, prediction)\n",
        "        gradient = tape.gradient(loss, image)\n",
        "        adversarial_image = fgsm_attack(image.numpy(), epsilon, gradient.numpy())\n",
        "        adversarial_images.append(adversarial_image.reshape(28, 28))\n",
        "\n",
        "    return np.array(adversarial_images)\n",
        "\n",
        "# Создание модели:\n",
        "def create_model():\n",
        "    model = tf.keras.Sequential([\n",
        "        tf.keras.layers.Flatten(input_shape=(28, 28)),\n",
        "        tf.keras.layers.Dense(128, activation='relu'),\n",
        "        tf.keras.layers.Dense(10, activation='softmax')\n",
        "    ])\n",
        "    model.compile(optimizer='adam', loss='categorical_crossentropy', metrics=['accuracy'])\n",
        "    return model\n",
        "\n",
        "# Обучение модели с противоречивыми примерами:\n",
        "def adversarial_training(model, train_images, train_labels, epsilon):\n",
        "    for epoch in range(5):\n",
        "        for i in range(0, len(train_images), 32):\n",
        "            batch_images = train_images[i:i+32]\n",
        "            batch_labels = train_labels[i:i+32]\n",
        "            # Генерация противоречивых примеров для текущей партии данных:\n",
        "            adversarial_images = generate_adversarial_examples(model, batch_images, batch_labels, epsilon)\n",
        "            # Объединение оригинальных и противоречивых примеров:\n",
        "            combined_images = np.concatenate([batch_images, adversarial_images], axis=0)\n",
        "            combined_labels = np.concatenate([batch_labels, batch_labels], axis=0)\n",
        "            # Обучение на комбинированных данных:\n",
        "            model.train_on_batch(combined_images, combined_labels)\n",
        "\n",
        "# Инициализация модели:\n",
        "model = create_model()\n",
        "\n",
        "# Тренировка модели с защитой на противоречивых примерах:\n",
        "adversarial_training(model, train_images, train_labels, epsilon=0.1)\n",
        "\n",
        "# Сохранение защищенной модели:\n",
        "model.save('Adversarial_Trained_model.h5')"
      ]
    },
    {
      "cell_type": "markdown",
      "source": [
        "###**Шаг 2: Градиентная маскировка (`Gradient Masking`)**"
      ],
      "metadata": {
        "id": "8aLUrD0etRBM"
      }
    },
    {
      "cell_type": "markdown",
      "source": [
        " `Gradient Masking` — это метод защиты, который затрудняет доступ к градиентам модели для атак. Он используется для уменьшения информации, доступной для атакующих, и усложнения поиска направленных изменений."
      ],
      "metadata": {
        "id": "Ma4r_q52tUPU"
      }
    },
    {
      "cell_type": "code",
      "source": [
        "import tensorflow as tf\n",
        "from tensorflow.keras.layers import Activation\n",
        "from tensorflow.keras.datasets import mnist\n",
        "from tensorflow.keras.utils import to_categorical\n",
        "\n",
        "# Загрузка и подготовка данных:\n",
        "(train_images, train_labels), (test_images, test_labels) = mnist.load_data()\n",
        "\n",
        "# Нормализация данных:\n",
        "train_images = train_images / 255.0\n",
        "test_images = test_images / 255.0\n",
        "\n",
        "# Преобразование меток в one-hot encoding:\n",
        "train_labels = to_categorical(train_labels, 10)\n",
        "test_labels = to_categorical(test_labels, 10)\n",
        "\n",
        "# Обновление модели для градиентной маскировки:\n",
        "def create_masked_model():\n",
        "    model = tf.keras.Sequential([\n",
        "        tf.keras.layers.Flatten(input_shape=(28, 28)),\n",
        "        tf.keras.layers.Dense(128, activation='relu'),\n",
        "        tf.keras.layers.Dense(10),\n",
        "        Activation('softplus')])\n",
        "    model.compile(optimizer='adam', loss='categorical_crossentropy', metrics=['accuracy'])\n",
        "    return model\n",
        "\n",
        "# Обучение модели с градиентной маскировкой:\n",
        "masked_model = create_masked_model()\n",
        "masked_model.fit(train_images, train_labels, epochs=5)\n",
        "\n",
        "# Сохранение модели с градиентной маскировкой:\n",
        "masked_model.save('Gradient_Masking_model.h5')"
      ],
      "metadata": {
        "colab": {
          "base_uri": "https://localhost:8080/"
        },
        "id": "j03oPpEFtqMx",
        "outputId": "256f73fc-570c-469a-a046-f56fb43b9872"
      },
      "execution_count": 2,
      "outputs": [
        {
          "output_type": "stream",
          "name": "stdout",
          "text": [
            "Epoch 1/5\n",
            "\u001b[1m1875/1875\u001b[0m \u001b[32m━━━━━━━━━━━━━━━━━━━━\u001b[0m\u001b[37m\u001b[0m \u001b[1m9s\u001b[0m 4ms/step - accuracy: 0.8729 - loss: 0.4615\n",
            "Epoch 2/5\n",
            "\u001b[1m1875/1875\u001b[0m \u001b[32m━━━━━━━━━━━━━━━━━━━━\u001b[0m\u001b[37m\u001b[0m \u001b[1m7s\u001b[0m 4ms/step - accuracy: 0.9610 - loss: 0.1328\n",
            "Epoch 3/5\n",
            "\u001b[1m1875/1875\u001b[0m \u001b[32m━━━━━━━━━━━━━━━━━━━━\u001b[0m\u001b[37m\u001b[0m \u001b[1m9s\u001b[0m 3ms/step - accuracy: 0.9746 - loss: 0.0880\n",
            "Epoch 4/5\n",
            "\u001b[1m1875/1875\u001b[0m \u001b[32m━━━━━━━━━━━━━━━━━━━━\u001b[0m\u001b[37m\u001b[0m \u001b[1m10s\u001b[0m 3ms/step - accuracy: 0.9806 - loss: 0.0629\n",
            "Epoch 5/5\n",
            "\u001b[1m1875/1875\u001b[0m \u001b[32m━━━━━━━━━━━━━━━━━━━━\u001b[0m\u001b[37m\u001b[0m \u001b[1m8s\u001b[0m 4ms/step - accuracy: 0.9851 - loss: 0.0476\n"
          ]
        },
        {
          "output_type": "stream",
          "name": "stderr",
          "text": [
            "WARNING:absl:You are saving your model as an HDF5 file via `model.save()` or `keras.saving.save_model(model)`. This file format is considered legacy. We recommend using instead the native Keras format, e.g. `model.save('my_model.keras')` or `keras.saving.save_model(model, 'my_model.keras')`. \n"
          ]
        }
      ]
    },
    {
      "cell_type": "markdown",
      "source": [
        "###**Шаг 3: Регуляризация и нормализация для повышения устойчивости**"
      ],
      "metadata": {
        "id": "J8AtIkBAt4PO"
      }
    },
    {
      "cell_type": "markdown",
      "source": [
        "Использование таких методов, как `L2`-регуляризация, дропаут и нормализация батчей, может помочь улучшить устойчивость модели к атакам."
      ],
      "metadata": {
        "id": "7P3WsUGHt9ox"
      }
    },
    {
      "cell_type": "code",
      "source": [
        "# Модель с регуляризацией и нормализацией:\n",
        "def create_regularized_model():\n",
        " model = tf.keras.Sequential([\n",
        " tf.keras.layers.Flatten(input_shape=(28, 28)),\n",
        " tf.keras.layers.Dense(128, activation='relu',\n",
        "kernel_regularizer=tf.keras.regularizers.l2(0.01)),\n",
        " tf.keras.layers.Dropout(0.5),tf.keras.layers.BatchNormalization(),\n",
        " tf.keras.layers.Dense(10, activation='softmax')\n",
        " ])\n",
        " model.compile(optimizer='adam', loss='categorical_crossentropy',\n",
        "metrics=['accuracy'])\n",
        " return model\n",
        "# Обучение модели с регуляризацией и нормализацией:\n",
        "regularized_model = create_regularized_model()\n",
        "regularized_model.fit(train_images, train_labels, epochs=5)\n",
        "# Сохранение модели с регуляризацией:\n",
        "regularized_model.save('Regularized_Normalized_model.h5')"
      ],
      "metadata": {
        "colab": {
          "base_uri": "https://localhost:8080/"
        },
        "id": "3-xH3Srtt9FP",
        "outputId": "7a92ad32-c46d-4de4-ce5b-158017ef26a5"
      },
      "execution_count": 3,
      "outputs": [
        {
          "output_type": "stream",
          "name": "stdout",
          "text": [
            "Epoch 1/5\n",
            "\u001b[1m1875/1875\u001b[0m \u001b[32m━━━━━━━━━━━━━━━━━━━━\u001b[0m\u001b[37m\u001b[0m \u001b[1m11s\u001b[0m 5ms/step - accuracy: 0.7945 - loss: 1.3292\n",
            "Epoch 2/5\n",
            "\u001b[1m1875/1875\u001b[0m \u001b[32m━━━━━━━━━━━━━━━━━━━━\u001b[0m\u001b[37m\u001b[0m \u001b[1m10s\u001b[0m 5ms/step - accuracy: 0.8749 - loss: 0.6073\n",
            "Epoch 3/5\n",
            "\u001b[1m1875/1875\u001b[0m \u001b[32m━━━━━━━━━━━━━━━━━━━━\u001b[0m\u001b[37m\u001b[0m \u001b[1m10s\u001b[0m 5ms/step - accuracy: 0.8626 - loss: 0.6195\n",
            "Epoch 4/5\n",
            "\u001b[1m1875/1875\u001b[0m \u001b[32m━━━━━━━━━━━━━━━━━━━━\u001b[0m\u001b[37m\u001b[0m \u001b[1m9s\u001b[0m 5ms/step - accuracy: 0.8617 - loss: 0.6156\n",
            "Epoch 5/5\n",
            "\u001b[1m1875/1875\u001b[0m \u001b[32m━━━━━━━━━━━━━━━━━━━━\u001b[0m\u001b[37m\u001b[0m \u001b[1m9s\u001b[0m 4ms/step - accuracy: 0.8605 - loss: 0.6156\n"
          ]
        },
        {
          "output_type": "stream",
          "name": "stderr",
          "text": [
            "WARNING:absl:You are saving your model as an HDF5 file via `model.save()` or `keras.saving.save_model(model)`. This file format is considered legacy. We recommend using instead the native Keras format, e.g. `model.save('my_model.keras')` or `keras.saving.save_model(model, 'my_model.keras')`. \n"
          ]
        }
      ]
    },
    {
      "cell_type": "markdown",
      "source": [
        "###**Шаг 4: Оценка моделей на противоречивых примерах**"
      ],
      "metadata": {
        "id": "rgnSWIaZubXI"
      }
    },
    {
      "cell_type": "markdown",
      "source": [
        "Теперь проверим эффективность всех защитных методов на атакованных данных, созданных с помощью `FGSM` и других методов, таких как `PGD` или `GAN`."
      ],
      "metadata": {
        "id": "bEcLUR8kudy3"
      }
    },
    {
      "cell_type": "code",
      "source": [
        "# Загрузка моделей:\n",
        "models = {\n",
        "    'Protected_Model': tf.keras.models.load_model('Adversarial_Trained_model.h5'),\n",
        "    'Regularized_Model': tf.keras.models.load_model('Regularized_Normalized_model.h5'),\n",
        "    'Masked_Model': tf.keras.models.load_model('Gradient_Masking_model.h5')\n",
        "}\n",
        "\n",
        "# Генерация противоречивых примеров\n",
        "adversarial_test_images = generate_adversarial_examples(models['Protected_Model'], test_images, test_labels, epsilon=0.1)\n",
        "\n",
        "# Оценка моделей на противоречивых примерах\n",
        "for model_name, model in models.items():\n",
        "    test_loss, test_acc = model.evaluate(adversarial_test_images, test_labels)\n",
        "    print(f'Accuracy of {model_name} model on adversarial examples: {test_acc}')"
      ],
      "metadata": {
        "colab": {
          "base_uri": "https://localhost:8080/"
        },
        "id": "dnwqsNfbubDv",
        "outputId": "d7f377e8-346a-4e80-9440-1c378812a721"
      },
      "execution_count": 4,
      "outputs": [
        {
          "output_type": "stream",
          "name": "stderr",
          "text": [
            "WARNING:absl:Compiled the loaded model, but the compiled metrics have yet to be built. `model.compile_metrics` will be empty until you train or evaluate the model.\n",
            "WARNING:absl:Compiled the loaded model, but the compiled metrics have yet to be built. `model.compile_metrics` will be empty until you train or evaluate the model.\n",
            "WARNING:absl:Compiled the loaded model, but the compiled metrics have yet to be built. `model.compile_metrics` will be empty until you train or evaluate the model.\n"
          ]
        },
        {
          "output_type": "stream",
          "name": "stdout",
          "text": [
            "\u001b[1m313/313\u001b[0m \u001b[32m━━━━━━━━━━━━━━━━━━━━\u001b[0m\u001b[37m\u001b[0m \u001b[1m1s\u001b[0m 2ms/step - accuracy: 0.4876 - loss: 1.4637\n",
            "Accuracy of Protected_Model model on adversarial examples: 0.5458999872207642\n",
            "\u001b[1m313/313\u001b[0m \u001b[32m━━━━━━━━━━━━━━━━━━━━\u001b[0m\u001b[37m\u001b[0m \u001b[1m1s\u001b[0m 2ms/step - accuracy: 0.6842 - loss: 1.1083\n",
            "Accuracy of Regularized_Model model on adversarial examples: 0.7185999751091003\n",
            "\u001b[1m313/313\u001b[0m \u001b[32m━━━━━━━━━━━━━━━━━━━━\u001b[0m\u001b[37m\u001b[0m \u001b[1m1s\u001b[0m 2ms/step - accuracy: 0.6553 - loss: 1.2307\n",
            "Accuracy of Masked_Model model on adversarial examples: 0.7056999802589417\n"
          ]
        }
      ]
    },
    {
      "cell_type": "markdown",
      "source": [
        "### **Результат**"
      ],
      "metadata": {
        "id": "gMoUIrNw4mn9"
      }
    },
    {
      "cell_type": "markdown",
      "source": [
        "В ходе исследования были протестированы различные подходы к защите моделей от атак, использующих противоречивые примеры. Для генерации атак применялась методика `FGSM`, а также были реализованы два метода защиты: градиентная маскировка и модель, основанная на регуляризации и нормализации. Модели обучались на наборе данных, который включал как оригинальные изображения, так и специально сгенерированные противоречивые примеры, что должно было повысить их устойчивость к атакам.\n",
        "\n",
        "Результаты тестирования продемонстрировали следующие показатели точности на противоречивых примерах:\n",
        "\n",
        "Модель с защитой от атак, обученная на противоречивых примерах, показала точность 54.45%;\n",
        "\n",
        "Модель с регуляризацией и нормализацией достигла точности 71.85%, что является наилучшим результатом среди всех протестированных моделей;\n",
        "\n",
        "Модель с градиентной маскировкой показала точность 70.56%, что хотя и является хорошим результатом, все же уступает модели с регуляризацией и нормализацией.\n",
        "\n",
        "Эти результаты свидетельствуют о том, что метод регуляризации и нормализации оказался наиболее эффективным для защиты от атак с использованием противоречивых примеров, улучшив точность на ~9% по сравнению с моделью, основанной на градиентной маскировке.\n"
      ],
      "metadata": {
        "id": "PYobAXcz5J5s"
      }
    },
    {
      "cell_type": "markdown",
      "source": [
        "### **Выводы**"
      ],
      "metadata": {
        "id": "rFvIqG3I5vCP"
      }
    },
    {
      "cell_type": "markdown",
      "source": [
        "**Таким образом, можно заключить, что модель с регуляризацией и нормализацией продемонстрировала наибольшую устойчивость к атакам с противоречивыми примерами и является наиболее эффективным методом защиты среди рассмотренных вариантов.**"
      ],
      "metadata": {
        "id": "B2pyjrJf5yCi"
      }
    }
  ]
}