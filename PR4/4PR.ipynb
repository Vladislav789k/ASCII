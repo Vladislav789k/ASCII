{
  "nbformat": 4,
  "nbformat_minor": 0,
  "metadata": {
    "colab": {
      "provenance": []
    },
    "kernelspec": {
      "name": "python3",
      "display_name": "Python 3"
    },
    "language_info": {
      "name": "python"
    }
  },
  "cells": [
    {
      "cell_type": "markdown",
      "source": [
        "# **Практика 4: Атака `DeepFool` на модели ИИ**\n",
        "\n",
        "По предмету: **Анализ защищенности систем искусственного интеллекта**\n",
        "\n",
        "Выполнил студент **2 курса** группы **ББМО-02-23**\n",
        "\n",
        "**Карпейкин Владислав Анатольевич**"
      ],
      "metadata": {
        "id": "lto2lXOFn4_A"
      }
    },
    {
      "cell_type": "markdown",
      "source": [
        "##**Цель задания:**\n",
        "Изучить атаку `DeepFool`, которая предназначена для минимальных изменений в изображениях с целью изменения их классификации. Научиться использовать эту атаку и исследовать влияние противоречивых примеров на обученные модели"
      ],
      "metadata": {
        "id": "Y5OctsR3oVaj"
      }
    },
    {
      "cell_type": "markdown",
      "source": [
        "##**Задачи:**\n",
        "1. Загрузить ранее обученную модель на датасете `MNIST`;\n",
        "2. Изучить теоретические основы атаки `DeepFool`;\n",
        "3. Реализовать атаку `DeepFool` с помощью фреймворка `Foolbox`;\n",
        "4. Оценить точность модели на противоречивых примерах и сравнить с результатами на обычных данных."
      ],
      "metadata": {
        "id": "qvDbpHZ5n4ES"
      }
    },
    {
      "cell_type": "markdown",
      "source": [
        "##**Шаги выполнения:**"
      ],
      "metadata": {
        "id": "Fxz0ZEVUoofc"
      }
    },
    {
      "cell_type": "markdown",
      "source": [
        "###**Шаг 1: Загрузка обученной модели и данных MNIST**"
      ],
      "metadata": {
        "id": "TE4uE1Gjq0oE"
      }
    },
    {
      "cell_type": "code",
      "source": [
        "import tensorflow as tf\n",
        "from tensorflow.keras.datasets import mnist\n",
        "from tensorflow.keras.utils import to_categorical\n",
        "# Загрузка тестовых данных MNIST:\n",
        "(_, _), (test_images, test_labels) = mnist.load_data()\n",
        "# Нормализация данных\n",
        "test_images = test_images / 255.0\n",
        "# Преобразование меток в формат one-hot:\n",
        "test_labels = to_categorical(test_labels, num_classes=10)\n",
        "# Загрузка обученной модели:\n",
        "model = tf.keras.models.load_model('/content/mnist_model.h5')\n",
        "# Проверка точности модели на обычных данных:\n",
        "test_loss, test_acc = model.evaluate(test_images, test_labels)\n",
        "print(f'Test accuracy on clean images: {test_acc}')"
      ],
      "metadata": {
        "colab": {
          "base_uri": "https://localhost:8080/"
        },
        "id": "Nr_WY-bPq_cz",
        "outputId": "c20ea597-8260-4eb4-e3e3-2838faa2d697"
      },
      "execution_count": 2,
      "outputs": [
        {
          "output_type": "stream",
          "name": "stderr",
          "text": [
            "WARNING:absl:Compiled the loaded model, but the compiled metrics have yet to be built. `model.compile_metrics` will be empty until you train or evaluate the model.\n"
          ]
        },
        {
          "output_type": "stream",
          "name": "stdout",
          "text": [
            "\u001b[1m313/313\u001b[0m \u001b[32m━━━━━━━━━━━━━━━━━━━━\u001b[0m\u001b[37m\u001b[0m \u001b[1m1s\u001b[0m 2ms/step - accuracy: 0.9752 - loss: 0.0817\n",
            "Test accuracy on clean images: 0.9778000116348267\n"
          ]
        }
      ]
    },
    {
      "cell_type": "markdown",
      "source": [
        "### Шаг 2: Теория атаки `DeepFool`"
      ],
      "metadata": {
        "id": "g9j35eieq6es"
      }
    },
    {
      "cell_type": "markdown",
      "source": [
        "Атака `DeepFool` — это метод, который был разработан для минимального изменения изображений с целью заставить классификационную модель ошибиться. В отличие от других атак, таких как `FGSM`, `DeepFool` находит минимальные изменения в пространстве признаков, которые достаточны для изменения предсказания модели. Это делает `DeepFool` более эффективной в создании противоречивых примеров с минимальным изменением входных данных"
      ],
      "metadata": {
        "id": "KC7APx77rbc5"
      }
    },
    {
      "cell_type": "markdown",
      "source": [
        "### Шаг 3: Реализация атаки `DeepFool` с использованием `Foolbox`"
      ],
      "metadata": {
        "id": "EQf0vuDFrvp_"
      }
    },
    {
      "cell_type": "markdown",
      "source": [
        " Для выполнения атаки `DeepFool` мы будем использовать библиотеку `Foolbox`, которая поддерживает различные атаки на модели ИИ, включая `DeepFool`."
      ],
      "metadata": {
        "id": "LQcpi92_sCam"
      }
    },
    {
      "cell_type": "markdown",
      "source": [
        "Установка `Foolbox`:"
      ],
      "metadata": {
        "id": "HQ6P79MOsMif"
      }
    },
    {
      "cell_type": "code",
      "source": [
        "!pip install foolbox"
      ],
      "metadata": {
        "colab": {
          "base_uri": "https://localhost:8080/"
        },
        "id": "BE6pCxjYr8WP",
        "outputId": "71a539ac-9828-4b2d-d36c-5e8e5309b95a"
      },
      "execution_count": 3,
      "outputs": [
        {
          "output_type": "stream",
          "name": "stdout",
          "text": [
            "Collecting foolbox\n",
            "  Downloading foolbox-3.3.4-py3-none-any.whl.metadata (7.3 kB)\n",
            "Requirement already satisfied: numpy in /usr/local/lib/python3.10/dist-packages (from foolbox) (1.26.4)\n",
            "Requirement already satisfied: scipy in /usr/local/lib/python3.10/dist-packages (from foolbox) (1.13.1)\n",
            "Requirement already satisfied: setuptools in /usr/local/lib/python3.10/dist-packages (from foolbox) (75.1.0)\n",
            "Collecting eagerpy>=0.30.0 (from foolbox)\n",
            "  Downloading eagerpy-0.30.0-py3-none-any.whl.metadata (5.5 kB)\n",
            "Requirement already satisfied: GitPython>=3.0.7 in /usr/local/lib/python3.10/dist-packages (from foolbox) (3.1.43)\n",
            "Requirement already satisfied: typing-extensions>=3.7.4.1 in /usr/local/lib/python3.10/dist-packages (from foolbox) (4.12.2)\n",
            "Requirement already satisfied: requests>=2.24.0 in /usr/local/lib/python3.10/dist-packages (from foolbox) (2.32.3)\n",
            "Requirement already satisfied: gitdb<5,>=4.0.1 in /usr/local/lib/python3.10/dist-packages (from GitPython>=3.0.7->foolbox) (4.0.11)\n",
            "Requirement already satisfied: charset-normalizer<4,>=2 in /usr/local/lib/python3.10/dist-packages (from requests>=2.24.0->foolbox) (3.4.0)\n",
            "Requirement already satisfied: idna<4,>=2.5 in /usr/local/lib/python3.10/dist-packages (from requests>=2.24.0->foolbox) (3.10)\n",
            "Requirement already satisfied: urllib3<3,>=1.21.1 in /usr/local/lib/python3.10/dist-packages (from requests>=2.24.0->foolbox) (2.2.3)\n",
            "Requirement already satisfied: certifi>=2017.4.17 in /usr/local/lib/python3.10/dist-packages (from requests>=2.24.0->foolbox) (2024.8.30)\n",
            "Requirement already satisfied: smmap<6,>=3.0.1 in /usr/local/lib/python3.10/dist-packages (from gitdb<5,>=4.0.1->GitPython>=3.0.7->foolbox) (5.0.1)\n",
            "Downloading foolbox-3.3.4-py3-none-any.whl (1.7 MB)\n",
            "\u001b[2K   \u001b[90m━━━━━━━━━━━━━━━━━━━━━━━━━━━━━━━━━━━━━━━━\u001b[0m \u001b[32m1.7/1.7 MB\u001b[0m \u001b[31m18.9 MB/s\u001b[0m eta \u001b[36m0:00:00\u001b[0m\n",
            "\u001b[?25hDownloading eagerpy-0.30.0-py3-none-any.whl (31 kB)\n",
            "Installing collected packages: eagerpy, foolbox\n",
            "Successfully installed eagerpy-0.30.0 foolbox-3.3.4\n"
          ]
        }
      ]
    },
    {
      "cell_type": "markdown",
      "source": [
        "Реализация атаки `DeepFool`:"
      ],
      "metadata": {
        "id": "yr2PUKSWsUur"
      }
    },
    {
      "cell_type": "markdown",
      "source": [
        "Как пример атака происходит на первые 5 изображений:"
      ],
      "metadata": {
        "id": "i5TrdxeN2Iin"
      }
    },
    {
      "cell_type": "code",
      "source": [
        "import foolbox as fb\n",
        "import numpy as np\n",
        "import matplotlib.pyplot as plt\n",
        "import tensorflow as tf  # Убедитесь, что TensorFlow импортирован\n",
        "\n",
        "# Инициализация Foolbox модели\n",
        "fmodel = fb.TensorFlowModel(model, bounds=(-1, 1))\n",
        "\n",
        "# Создание атаки DeepFool\n",
        "attack = fb.attacks.L2DeepFoolAttack(steps=100)\n",
        "\n",
        "# Количество изображений для атаки\n",
        "num_images = 5\n",
        "\n",
        "# Создание подграфиков для отображения результатов\n",
        "plt.figure(figsize=(15, 7))\n",
        "\n",
        "for i in range(num_images):\n",
        "    # Выбор изображения для атаки\n",
        "    image = tf.convert_to_tensor(test_images[i], dtype=tf.float32)[None, ...]\n",
        "    label = np.argmax(test_labels[i])\n",
        "    label = tf.convert_to_tensor(label, dtype=tf.int64)\n",
        "\n",
        "    # Выполнение атаки\n",
        "    adversarial_image, _, success = attack(fmodel, image, label[None], epsilons=0.01)\n",
        "\n",
        "    # Отображение оригинального и противоречивого изображений\n",
        "    plt.subplot(2, num_images, i + 1)\n",
        "    plt.title(f\"Оригинальное изображение {i+1}\")\n",
        "    plt.imshow(image[0].numpy(), cmap=\"gray\")\n",
        "    plt.axis('off')\n",
        "\n",
        "    plt.subplot(2, num_images, num_images + i + 1)\n",
        "    plt.title(f\"Противоречивое изображение {i+1}\")\n",
        "    plt.imshow(adversarial_image[0].numpy(), cmap=\"gray\")\n",
        "    plt.axis('off')\n",
        "\n",
        "plt.tight_layout()\n",
        "plt.show()"
      ],
      "metadata": {
        "colab": {
          "base_uri": "https://localhost:8080/",
          "height": 744
        },
        "id": "WiqkavV61UVx",
        "outputId": "5d8310b7-53fe-4f7c-dc2e-9a992b42df0d"
      },
      "execution_count": 4,
      "outputs": [
        {
          "output_type": "stream",
          "name": "stderr",
          "text": [
            "WARNING:tensorflow:From /usr/local/lib/python3.10/dist-packages/foolbox/models/tensorflow.py:13: is_gpu_available (from tensorflow.python.framework.test_util) is deprecated and will be removed in a future version.\n",
            "Instructions for updating:\n",
            "Use `tf.config.list_physical_devices('GPU')` instead.\n"
          ]
        },
        {
          "output_type": "display_data",
          "data": {
            "text/plain": [
              "<Figure size 1500x700 with 10 Axes>"
            ],
            "image/png": "[encoded data removed]"
          },
          "metadata": {}
        }
      ]
    },
    {
      "cell_type": "markdown",
      "source": [
        "### Шаг 4: Оценка модели на противоречивых примерах"
      ],
      "metadata": {
        "id": "C5PUwzGpr3gt"
      }
    },
    {
      "cell_type": "markdown",
      "source": [
        " Теперь мы проверим, насколько сильно атака `DeepFool` влияет на точность модели. Мы создадим набор противоречивых примеров и оценим производительность модели на этих данных."
      ],
      "metadata": {
        "id": "H62sIeTG-9NG"
      }
    },
    {
      "cell_type": "code",
      "source": [
        "import tensorflow as tf\n",
        "import numpy as np\n",
        "\n",
        "batch_size = 32\n",
        "num_batches = len(test_images) // batch_size + (1 if len(test_images) % batch_size != 0 else 0)\n",
        "adversarial_images = []\n",
        "adversarial_labels = []\n",
        "\n",
        "for batch_idx in range(num_batches):\n",
        "    start_idx = batch_idx * batch_size\n",
        "    end_idx = min(start_idx + batch_size, len(test_images))\n",
        "\n",
        "    images_batch = tf.convert_to_tensor(test_images[start_idx:end_idx], dtype=tf.float32)\n",
        "    labels_batch = np.argmax(test_labels[start_idx:end_idx], axis=1)\n",
        "    labels_batch = tf.convert_to_tensor(labels_batch, dtype=tf.int64)\n",
        "\n",
        "\n",
        "    advs_batch, _, success_batch = attack(fmodel, images_batch, labels_batch, epsilons=0.01)\n",
        "\n",
        "\n",
        "    if tf.reduce_any(success_batch):\n",
        "        adversarial_images.append(advs_batch)\n",
        "        adversarial_labels.append(labels_batch)\n",
        "\n",
        "adversarial_images = tf.concat(adversarial_images, axis=0)\n",
        "adversarial_labels = tf.concat(adversarial_labels, axis=0)\n",
        "\n",
        "num_classes = model.output_shape[-1]\n",
        "adversarial_labels = tf.one_hot(adversarial_labels, depth=num_classes)\n",
        "\n",
        "\n",
        "adversarial_loss, adversarial_acc = model.evaluate(adversarial_images, adversarial_labels)\n",
        "print(f'Accuracy on adversarial examples (DeepFool): {adversarial_acc}')\n"
      ],
      "metadata": {
        "colab": {
          "base_uri": "https://localhost:8080/"
        },
        "id": "EhE2q2ke23dk",
        "outputId": "660efb61-6c0b-4099-ad3d-f1243206d6ab"
      },
      "execution_count": 10,
      "outputs": [
        {
          "output_type": "stream",
          "name": "stdout",
          "text": [
            "\u001b[1m152/152\u001b[0m \u001b[32m━━━━━━━━━━━━━━━━━━━━\u001b[0m\u001b[37m\u001b[0m \u001b[1m0s\u001b[0m 2ms/step - accuracy: 0.0000e+00 - loss: 137.9225\n",
            "Accuracy on adversarial examples (DeepFool): 0.0\n"
          ]
        }
      ]
    },
    {
      "cell_type": "markdown",
      "source": [
        "### Шаг 5: Сравнение результатов"
      ],
      "metadata": {
        "id": "rvCfk0Lgr6jR"
      }
    },
    {
      "cell_type": "markdown",
      "source": [
        "Точность модели на примерах, подвергнутых атакам, составляет примерно 0%. Это резкое снижение эффективности может быть связано с тем, что модель оказывается крайне чувствительной к незначительным, но тщательно подобранным изменениям в изображениях, созданным с целью обмана системы. Небольшие модификации, как в случае атаки `DeepFool`, способны значительно сбивать модель с толку.\n",
        "\n",
        "Такое снижение точности указывает на потенциальную слабость модели в плане устойчивости к внешним воздействиям. В реальных приложениях, где изображения могут подвергаться различным помехам или манипуляциям, модель с подобной уязвимостью может не вызывать доверия. Например, в системах безопасности или автономных транспортных средствах такие слабости могут быть использованы для манипуляции результатами распознавания объектов или дорожных знаков.\n",
        "\n",
        "**Вывод:**\n",
        "Снижение точности на атакованных примерах подчеркивает необходимость учитывать устойчивость модели к атакам, что особенно важно для её применения в реальных и потенциально враждебных условиях."
      ],
      "metadata": {
        "id": "Q2IPAcHe7Pwi"
      }
    }
  ]
}
