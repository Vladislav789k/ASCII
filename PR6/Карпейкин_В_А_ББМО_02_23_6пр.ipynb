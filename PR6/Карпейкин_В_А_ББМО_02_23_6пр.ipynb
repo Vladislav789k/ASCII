{
  "nbformat": 4,
  "nbformat_minor": 0,
  "metadata": {
    "colab": {
      "provenance": []
    },
    "kernelspec": {
      "name": "python3",
      "display_name": "Python 3"
    },
    "language_info": {
      "name": "python"
    }
  },
  "cells": [
    {
      "cell_type": "markdown",
      "source": [
        "# **Практика 6: Атака по переносу (`Transfer Attack`) на модели ИИ**\n",
        "\n",
        "По предмету: **Анализ защищенности систем искусственного интеллекта**\n",
        "\n",
        "Выполнил студент **2 курса** группы **ББМО-02-23**\n",
        "\n",
        "**Карпейкин Владислав Анатольевич**"
      ],
      "metadata": {
        "id": "MgGle-gq5gGP"
      }
    },
    {
      "cell_type": "markdown",
      "source": [
        "##**Цель задания:**\n",
        "Изучить концепцию атаки по переносу, где противоречивые примеры, созданные для одной модели, используются для атаки на другую модель. Это задание требует создания нескольких моделей, генерации противоречивых примеров для одной модели и проверки их на другой модели."
      ],
      "metadata": {
        "id": "KTxmsyTF5osY"
      }
    },
    {
      "cell_type": "markdown",
      "source": [
        "##**Задачи:**\n",
        "1. Загрузить несколько моделей, обученных на датасете `MNIST`.\n",
        "2. Изучить теоретические основы атаки по переносу.\n",
        "3. Реализовать атаку `FGSM` на одну модель и проверить, как противоречивые примеры влияют на другую модель.\n",
        "4. Оценить точность обеих моделей на противоречивых примерах и проанализировать переносимость атак."
      ],
      "metadata": {
        "id": "cu5vQ95151g-"
      }
    },
    {
      "cell_type": "markdown",
      "source": [
        "##**Шаги выполнения:**"
      ],
      "metadata": {
        "id": "XdSWduhR5_2A"
      }
    },
    {
      "cell_type": "markdown",
      "source": [
        "###**Шаг 1: Загрузка и создание двух различных моделей**"
      ],
      "metadata": {
        "id": "NUvuK8J_6Atw"
      }
    },
    {
      "cell_type": "markdown",
      "source": [
        "#### **Создаем две модели на датасете `MNIST`: одну простую полносвязную сеть и одну свёрточную нейронную сеть (`CNN`)**"
      ],
      "metadata": {
        "id": "iH0PQ_bH6Mg0"
      }
    },
    {
      "cell_type": "markdown",
      "source": [
        "**Загрузка нужных библиотек:**"
      ],
      "metadata": {
        "id": "g5TQdMoL6zxN"
      }
    },
    {
      "cell_type": "code",
      "execution_count": 1,
      "metadata": {
        "id": "xYK7aRiA5dTS"
      },
      "outputs": [],
      "source": [
        "import tensorflow as tf\n",
        "from tensorflow.keras.datasets import mnist\n",
        "from tensorflow.keras.models import Sequential\n",
        "from tensorflow.keras.layers import Dense, Flatten, Conv2D, MaxPooling2D\n",
        "from tensorflow.keras.utils import to_categorical"
      ]
    },
    {
      "cell_type": "markdown",
      "source": [
        "**Загрузка датасета MNIST и нормализация данных:**"
      ],
      "metadata": {
        "id": "MLMZY47p63zi"
      }
    },
    {
      "cell_type": "code",
      "source": [
        "# Загрузка датасета MNIST:\n",
        "(train_images, train_labels), (test_images, test_labels) = mnist.load_data()\n",
        "# Нормализация данных:\n",
        "train_images = train_images / 255.0\n",
        "test_images = test_images / 255.0\n",
        "# Преобразование меток в one-hot encoding:\n",
        "train_labels = to_categorical(train_labels)\n",
        "test_labels = to_categorical(test_labels)"
      ],
      "metadata": {
        "colab": {
          "base_uri": "https://localhost:8080/"
        },
        "id": "B3Rex4WZ7RcF",
        "outputId": "f1ff3d87-8121-4b9f-bf91-8099d4ee25d1"
      },
      "execution_count": 2,
      "outputs": [
        {
          "output_type": "stream",
          "name": "stdout",
          "text": [
            "Downloading data from https://storage.googleapis.com/tensorflow/tf-keras-datasets/mnist.npz\n",
            "\u001b[1m11490434/11490434\u001b[0m \u001b[32m━━━━━━━━━━━━━━━━━━━━\u001b[0m\u001b[37m\u001b[0m \u001b[1m0s\u001b[0m 0us/step\n"
          ]
        }
      ]
    },
    {
      "cell_type": "markdown",
      "source": [
        "**Создание простой полносвязной модели на датасете MNIST с проверкой точности и сохранением:**"
      ],
      "metadata": {
        "id": "EAZR95M77yc5"
      }
    },
    {
      "cell_type": "code",
      "source": [
        "# Создание простой полносвязной модели:\n",
        "model1 = Sequential([Flatten(input_shape=(28, 28)), Dense(128, activation='relu'), Dense(10, activation='softmax')])\n",
        "# Компиляция модели:\n",
        "model1.compile(optimizer='adam', loss='categorical_crossentropy', metrics=['accuracy'])\n",
        "# Обучение модели:\n",
        "model1.fit(train_images, train_labels, epochs=5)\n",
        "# Проверка точности модели на обычных данных:\n",
        "test_loss, test_acc = model1.evaluate(test_images, test_labels)\n",
        "print(f'Test accuracy on clean images: {test_acc}')\n",
        "# Сохранение модели:\n",
        "model1.save('mnist_model_fully_connected.h5')"
      ],
      "metadata": {
        "colab": {
          "base_uri": "https://localhost:8080/"
        },
        "id": "UwRWpXRk79DU",
        "outputId": "78b4886b-7789-453c-de91-dabd24b5acb1"
      },
      "execution_count": 3,
      "outputs": [
        {
          "output_type": "stream",
          "name": "stderr",
          "text": [
            "/usr/local/lib/python3.10/dist-packages/keras/src/layers/reshaping/flatten.py:37: UserWarning: Do not pass an `input_shape`/`input_dim` argument to a layer. When using Sequential models, prefer using an `Input(shape)` object as the first layer in the model instead.\n",
            "  super().__init__(**kwargs)\n"
          ]
        },
        {
          "output_type": "stream",
          "name": "stdout",
          "text": [
            "Epoch 1/5\n",
            "\u001b[1m1875/1875\u001b[0m \u001b[32m━━━━━━━━━━━━━━━━━━━━\u001b[0m\u001b[37m\u001b[0m \u001b[1m9s\u001b[0m 4ms/step - accuracy: 0.8744 - loss: 0.4432\n",
            "Epoch 2/5\n",
            "\u001b[1m1875/1875\u001b[0m \u001b[32m━━━━━━━━━━━━━━━━━━━━\u001b[0m\u001b[37m\u001b[0m \u001b[1m8s\u001b[0m 4ms/step - accuracy: 0.9660 - loss: 0.1207\n",
            "Epoch 3/5\n",
            "\u001b[1m1875/1875\u001b[0m \u001b[32m━━━━━━━━━━━━━━━━━━━━\u001b[0m\u001b[37m\u001b[0m \u001b[1m10s\u001b[0m 5ms/step - accuracy: 0.9762 - loss: 0.0780\n",
            "Epoch 4/5\n",
            "\u001b[1m1875/1875\u001b[0m \u001b[32m━━━━━━━━━━━━━━━━━━━━\u001b[0m\u001b[37m\u001b[0m \u001b[1m7s\u001b[0m 4ms/step - accuracy: 0.9829 - loss: 0.0561\n",
            "Epoch 5/5\n",
            "\u001b[1m1875/1875\u001b[0m \u001b[32m━━━━━━━━━━━━━━━━━━━━\u001b[0m\u001b[37m\u001b[0m \u001b[1m9s\u001b[0m 5ms/step - accuracy: 0.9877 - loss: 0.0427\n",
            "\u001b[1m313/313\u001b[0m \u001b[32m━━━━━━━━━━━━━━━━━━━━\u001b[0m\u001b[37m\u001b[0m \u001b[1m1s\u001b[0m 2ms/step - accuracy: 0.9746 - loss: 0.0853\n"
          ]
        },
        {
          "output_type": "stream",
          "name": "stderr",
          "text": [
            "WARNING:absl:You are saving your model as an HDF5 file via `model.save()` or `keras.saving.save_model(model)`. This file format is considered legacy. We recommend using instead the native Keras format, e.g. `model.save('my_model.keras')` or `keras.saving.save_model(model, 'my_model.keras')`. \n"
          ]
        },
        {
          "output_type": "stream",
          "name": "stdout",
          "text": [
            "Test accuracy on clean images: 0.9775999784469604\n"
          ]
        }
      ]
    },
    {
      "cell_type": "markdown",
      "source": [
        "**Создание свёрточной нейронной сети на датасете MNIST с проверкой точности и сохранением:**"
      ],
      "metadata": {
        "id": "khxzFvNj85Rp"
      }
    },
    {
      "cell_type": "code",
      "source": [
        "# Создание модели свёрточной нейронной сети:\n",
        "model2 = Sequential([Conv2D(32, (3, 3), activation='relu', input_shape=(28, 28, 1)), MaxPooling2D((2, 2)), Flatten(), Dense(128, activation='relu'),\n",
        "                     Dense(10, activation='softmax')])\n",
        "# Компиляция модели:\n",
        "model2.compile(optimizer='adam', loss='categorical_crossentropy', metrics=['accuracy'])\n",
        "# Обучение модели:\n",
        "model2.fit(train_images, train_labels, epochs=5)\n",
        "# Проверка точности модели на обычных данных:\n",
        "test_loss, test_acc = model2.evaluate(test_images, test_labels)\n",
        "print(f'Test accuracy on clean images: {test_acc}')\n",
        "# Сохранение модели:\n",
        "model2.save('mnist_model_сonvolutional.h5')"
      ],
      "metadata": {
        "colab": {
          "base_uri": "https://localhost:8080/"
        },
        "id": "6sl98Nkx9fJk",
        "outputId": "11cd20fb-db05-4b9d-b55a-4d2fe795a90b"
      },
      "execution_count": 4,
      "outputs": [
        {
          "output_type": "stream",
          "name": "stderr",
          "text": [
            "/usr/local/lib/python3.10/dist-packages/keras/src/layers/convolutional/base_conv.py:107: UserWarning: Do not pass an `input_shape`/`input_dim` argument to a layer. When using Sequential models, prefer using an `Input(shape)` object as the first layer in the model instead.\n",
            "  super().__init__(activity_regularizer=activity_regularizer, **kwargs)\n"
          ]
        },
        {
          "output_type": "stream",
          "name": "stdout",
          "text": [
            "Epoch 1/5\n",
            "\u001b[1m1875/1875\u001b[0m \u001b[32m━━━━━━━━━━━━━━━━━━━━\u001b[0m\u001b[37m\u001b[0m \u001b[1m44s\u001b[0m 23ms/step - accuracy: 0.9092 - loss: 0.3025\n",
            "Epoch 2/5\n",
            "\u001b[1m1875/1875\u001b[0m \u001b[32m━━━━━━━━━━━━━━━━━━━━\u001b[0m\u001b[37m\u001b[0m \u001b[1m81s\u001b[0m 23ms/step - accuracy: 0.9852 - loss: 0.0516\n",
            "Epoch 3/5\n",
            "\u001b[1m1875/1875\u001b[0m \u001b[32m━━━━━━━━━━━━━━━━━━━━\u001b[0m\u001b[37m\u001b[0m \u001b[1m83s\u001b[0m 23ms/step - accuracy: 0.9910 - loss: 0.0297\n",
            "Epoch 4/5\n",
            "\u001b[1m1875/1875\u001b[0m \u001b[32m━━━━━━━━━━━━━━━━━━━━\u001b[0m\u001b[37m\u001b[0m \u001b[1m81s\u001b[0m 23ms/step - accuracy: 0.9940 - loss: 0.0190\n",
            "Epoch 5/5\n",
            "\u001b[1m1875/1875\u001b[0m \u001b[32m━━━━━━━━━━━━━━━━━━━━\u001b[0m\u001b[37m\u001b[0m \u001b[1m82s\u001b[0m 23ms/step - accuracy: 0.9965 - loss: 0.0112\n",
            "\u001b[1m313/313\u001b[0m \u001b[32m━━━━━━━━━━━━━━━━━━━━\u001b[0m\u001b[37m\u001b[0m \u001b[1m2s\u001b[0m 6ms/step - accuracy: 0.9822 - loss: 0.0546\n"
          ]
        },
        {
          "output_type": "stream",
          "name": "stderr",
          "text": [
            "WARNING:absl:You are saving your model as an HDF5 file via `model.save()` or `keras.saving.save_model(model)`. This file format is considered legacy. We recommend using instead the native Keras format, e.g. `model.save('my_model.keras')` or `keras.saving.save_model(model, 'my_model.keras')`. \n"
          ]
        },
        {
          "output_type": "stream",
          "name": "stdout",
          "text": [
            "Test accuracy on clean images: 0.9868999719619751\n"
          ]
        }
      ]
    },
    {
      "cell_type": "markdown",
      "source": [
        "###**Шаг 2: Теория атаки по переносу**"
      ],
      "metadata": {
        "id": "i_hspesG9ep_"
      }
    },
    {
      "cell_type": "markdown",
      "source": [
        " Атака по переносу — это метод, при котором противоречивые примеры, созданные для одной модели, применяются к другой модели. Это возможно, потому что модели часто имеют схожие слабости и могут совершать одинаковые ошибки на определенных данных, даже если они обучены на разных архитектурах.\n",
        "\n",
        " В этом задании мы создадим противоречивые примеры для первой модели с помощью `FGSM` и затем проверим, насколько эти примеры могут атаковать вторую модель."
      ],
      "metadata": {
        "id": "2Q6cKhGJ_5je"
      }
    },
    {
      "cell_type": "markdown",
      "source": [
        "###**Шаг 3: Реализация атаки `FGSM` на первую модель (полносвязную)**"
      ],
      "metadata": {
        "id": "HQgEvLjYABaB"
      }
    },
    {
      "cell_type": "markdown",
      "source": [
        "**Применим атаку `FGSM` (`Fast Gradient Sign Method`) к первой модели, чтобы создать противоречивые примеры:**"
      ],
      "metadata": {
        "id": "tfK8Qi5nBfTQ"
      }
    },
    {
      "cell_type": "code",
      "source": [
        "import numpy as np\n",
        "# Функция для реализации FGSM атаки:\n",
        "def fgsm_attack(image, epsilon, gradient):\n",
        "  # Применение знака градиента к изображению:\n",
        "  perturbed_image = image + epsilon * np.sign(gradient)\n",
        "  # Обрезка значений, чтобы они оставались в пределах [0,1]:\n",
        "  perturbed_image = np.clip(perturbed_image, 0, 1)\n",
        "  return perturbed_image\n",
        "# Вычисление градиента:\n",
        "def generate_adversarial_example(model, images, labels, epsilon):\n",
        "    adversarial_images = []\n",
        "    # Превращение изображения в формат, подходящий для модели:\n",
        "    for i in range(len(images)):\n",
        "      image = tf.convert_to_tensor(images[i].reshape((1, 28, 28, 1)))\n",
        "      label = labels[i]\n",
        "      # Преобразование label (one-hot вектора) в индекс:\n",
        "      if len(label.shape) > 1 and label.shape[1] > 1:\n",
        "          label = np.argmax(label),\n",
        "      label = tf.convert_to_tensor(label)\n",
        "      with tf.GradientTape() as tape:\n",
        "          tape.watch(image)\n",
        "          prediction = model(image)\n",
        "          loss = tf.keras.losses.categorical_crossentropy(label[None], prediction)\n",
        "      gradient = tape.gradient(loss, image)\n",
        "      # Применяем FGSM:\n",
        "      adversarial_image = fgsm_attack(image.numpy(), epsilon, gradient.numpy())\n",
        "      adversarial_images.append(np.reshape(adversarial_image, (28, 28, 1)))\n",
        "    return np.array(adversarial_images)\n",
        "epsilon = 0.1\n",
        "# Создание противоречивых изображения для простой полносвязной модели:\n",
        "adversarial_example = generate_adversarial_example(model1, test_images, test_labels, epsilon)"
      ],
      "metadata": {
        "id": "nK8p7i5XBkNc"
      },
      "execution_count": 5,
      "outputs": []
    },
    {
      "cell_type": "markdown",
      "source": [
        "**Визуализируем результат проведенной атаки:**"
      ],
      "metadata": {
        "id": "kqzCwmPlDBhX"
      }
    },
    {
      "cell_type": "code",
      "source": [
        "import matplotlib.pyplot as plt\n",
        "plt.figure(figsize=(10, 5))\n",
        "plt.subplot(1, 2, 1)\n",
        "plt.title(\"Оригинальное изображение:\")\n",
        "plt.imshow(test_images[15], cmap=\"gray\")\n",
        "plt.subplot(1, 2, 2)\n",
        "plt.title(\"Противоречивое изображение:\")\n",
        "plt.imshow(adversarial_example[15].reshape(28, 28), cmap=\"gray\")\n",
        "plt.show()"
      ],
      "metadata": {
        "colab": {
          "base_uri": "https://localhost:8080/",
          "height": 435
        },
        "id": "G06QRT0TDPj_",
        "outputId": "6161c57d-49b4-4bcf-9a64-08d91fa5da20"
      },
      "execution_count": 7,
      "outputs": [
        {
          "output_type": "display_data",
          "data": {
            "text/plain": [
              "<Figure size 1000x500 with 2 Axes>"
            ],
            "image/png": "[encoded data removed]"
          },
          "metadata": {}
        }
      ]
    },
    {
      "cell_type": "markdown",
      "source": [
        "###**Шаг 4: Оценка противоречивых примеров на обеих моделях**"
      ],
      "metadata": {
        "id": "mUwtCh9YFjxe"
      }
    },
    {
      "cell_type": "markdown",
      "source": [
        "Теперь мы проверим, как эти противоречивые примеры влияют на обе модели — первую, для которой они были созданы, и вторую, которая их не видела."
      ],
      "metadata": {
        "id": "eTGXpfd3GQG0"
      }
    },
    {
      "cell_type": "code",
      "source": [
        "# Оценка полносвязной модели на противоречивых примерах:\n",
        "adversarial_loss1, adversarial_acc1 = model1.evaluate(adversarial_example.reshape(10000, 28, 28),\n",
        "test_labels)\n",
        "# Оценка свёрточной модели на противоречивых примерах:\n",
        "adversarial_loss2, adversarial_acc2 = model2.evaluate(adversarial_example.reshape(10000, 28, 28),\n",
        "test_labels)\n",
        "print(f'Точность полносвязной модели: {adversarial_acc1}')\n",
        "print(f'Точность свёрточной модели: {adversarial_acc2}')"
      ],
      "metadata": {
        "colab": {
          "base_uri": "https://localhost:8080/"
        },
        "id": "IBUciX-7Fjea",
        "outputId": "ec4b1bcb-2d0f-4093-c8f9-409331a46a53"
      },
      "execution_count": 8,
      "outputs": [
        {
          "output_type": "stream",
          "name": "stdout",
          "text": [
            "\u001b[1m313/313\u001b[0m \u001b[32m━━━━━━━━━━━━━━━━━━━━\u001b[0m\u001b[37m\u001b[0m \u001b[1m1s\u001b[0m 2ms/step - accuracy: 0.0845 - loss: 6.2190\n",
            "\u001b[1m313/313\u001b[0m \u001b[32m━━━━━━━━━━━━━━━━━━━━\u001b[0m\u001b[37m\u001b[0m \u001b[1m2s\u001b[0m 7ms/step - accuracy: 0.9584 - loss: 0.1323\n",
            "Точность полносвязной модели: 0.11209999769926071\n",
            "Точность свёрточной модели: 0.9674999713897705\n"
          ]
        }
      ]
    },
    {
      "cell_type": "markdown",
      "source": [
        "###**Шаг 5: Реализация атаки `FGSM` на вторую модель (свёрточную)**"
      ],
      "metadata": {
        "id": "sjpf8WSbHLdt"
      }
    },
    {
      "cell_type": "markdown",
      "source": [
        "**Применим атаку `FGSM` (`Fast Gradient Sign Method`) к первой модели, чтобы создать противоречивые примеры:**"
      ],
      "metadata": {
        "id": "yOwnthsNdRjT"
      }
    },
    {
      "cell_type": "code",
      "source": [
        "# Создание противоречивых изображений для свёрточной модели:\n",
        "adversarial_example1 = generate_adversarial_example(model2, test_images, test_labels, epsilon)"
      ],
      "metadata": {
        "id": "50S2WEhEHYZj"
      },
      "execution_count": 9,
      "outputs": []
    },
    {
      "cell_type": "markdown",
      "source": [
        "**Визуализируем результат проведенной атаки:**"
      ],
      "metadata": {
        "id": "WH1YBz8xdN2P"
      }
    },
    {
      "cell_type": "code",
      "source": [
        "import matplotlib.pyplot as plt\n",
        "plt.figure(figsize=(10, 5))\n",
        "plt.subplot(1, 2, 1)\n",
        "plt.title(\"Оригинальное изображение:\")\n",
        "plt.imshow(test_images[15], cmap=\"gray\")\n",
        "plt.subplot(1, 2, 2)\n",
        "plt.title(\"Противоречивое изображение:\")\n",
        "plt.imshow(adversarial_example1[15].reshape(28, 28), cmap=\"gray\")\n",
        "plt.show()"
      ],
      "metadata": {
        "colab": {
          "base_uri": "https://localhost:8080/",
          "height": 435
        },
        "id": "YMDtBKwudF3D",
        "outputId": "972d6012-7447-48f3-f8d6-d02c8f5ef06a"
      },
      "execution_count": 10,
      "outputs": [
        {
          "output_type": "display_data",
          "data": {
            "text/plain": [
              "<Figure size 1000x500 with 2 Axes>"
            ],
            "image/png": "[encoded data removed]"
          },
          "metadata": {}
        }
      ]
    },
    {
      "cell_type": "markdown",
      "source": [
        "###**Шаг 6: Оценка противоречивых примеров на обеих моделях**"
      ],
      "metadata": {
        "id": "bdJ2biBrdJRR"
      }
    },
    {
      "cell_type": "code",
      "source": [
        "# Оценка полносвязной модели на противоречивых примерах:\n",
        "adversarial_loss3, adversarial_acc3 = model1.evaluate(adversarial_example1.reshape(10000, 28, 28),\n",
        "test_labels)\n",
        "# Оценка свёрточной модели на противоречивых примерах:\n",
        "adversarial_loss4, adversarial_acc4 = model2.evaluate(adversarial_example1.reshape(10000, 28, 28),\n",
        "test_labels)\n",
        "print(f'Точность полносвязной модели: {adversarial_acc3}')\n",
        "print(f'Точность свёрточной модели: {adversarial_acc4}')"
      ],
      "metadata": {
        "colab": {
          "base_uri": "https://localhost:8080/"
        },
        "id": "vqy5r0ShdLsr",
        "outputId": "74242b02-d075-497d-8f79-fbe934c06d79"
      },
      "execution_count": 11,
      "outputs": [
        {
          "output_type": "stream",
          "name": "stdout",
          "text": [
            "\u001b[1m313/313\u001b[0m \u001b[32m━━━━━━━━━━━━━━━━━━━━\u001b[0m\u001b[37m\u001b[0m \u001b[1m1s\u001b[0m 2ms/step - accuracy: 0.9069 - loss: 0.3009\n",
            "\u001b[1m313/313\u001b[0m \u001b[32m━━━━━━━━━━━━━━━━━━━━\u001b[0m\u001b[37m\u001b[0m \u001b[1m2s\u001b[0m 7ms/step - accuracy: 0.6819 - loss: 1.2669\n",
            "Точность полносвязной модели: 0.9239000082015991\n",
            "Точность свёрточной модели: 0.708899974822998\n"
          ]
        }
      ]
    },
    {
      "cell_type": "markdown",
      "source": [
        "###**Шаг 7: Анализ переносимости атак**"
      ],
      "metadata": {
        "id": "kGzL9mz6fGLx"
      }
    },
    {
      "cell_type": "markdown",
      "source": [
        "#### **Вывод:** Атака `FGSM` между моделями переносится плохо. Как видно, свёрточная модель показала лишь небольшое снижение точности, всего на 2.5%, в то время как полносвязная модель практически не пострадала от атаки, потеряв лишь около 1.5% точности. Однако в противоположной ситуации свёрточная модель продемонстрировала значительно худшие результаты, снизив свою точность до 68%. Это подчеркивает, что атака `FGSM` неэффективно переносится между полносвязными и свёрточными моделями."
      ],
      "metadata": {
        "id": "dDew_d-JkPhU"
      }
    }
  ]
}